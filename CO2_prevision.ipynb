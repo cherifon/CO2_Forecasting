{
  "cells": [
    {
      "cell_type": "markdown",
      "metadata": {
        "id": "kwhJfAxB5b3M"
      },
      "source": [
        "# CO2 Forecasting with SARIMAX Model\n",
        "\n",
        "This notebook demonstrates how to forecast CO2 levels using a SARIMAX model with exogenous variables. The workflow includes data preprocessing, model training, forecasting, and comparison of forecasted values with actual data.\n",
        "\n",
        "## Setup\n",
        "First, we install the necessary librairies.\n",
        "\n"
      ]
    },
    {
      "cell_type": "code",
      "execution_count": null,
      "metadata": {
        "colab": {
          "base_uri": "https://localhost:8080/"
        },
        "id": "cMT7NHL6JmYZ",
        "outputId": "650d29c9-1adb-4ca7-c9b9-dd9b7d44c7ba"
      },
      "outputs": [],
      "source": [
        "!pip install pmdarima"
      ]
    },
    {
      "cell_type": "markdown",
      "metadata": {
        "id": "O3bJN26r6vrv"
      },
      "source": [
        "# Import Libraries\n",
        "We import essential libraries including pandas for data manipulation, matplotlib for plotting, statsmodels for statistical modeling, and others.\n"
      ]
    },
    {
      "cell_type": "code",
      "execution_count": 22,
      "metadata": {
        "id": "Ja6FNy8RxUq2"
      },
      "outputs": [],
      "source": [
        "from statsmodels.tsa.stattools import adfuller\n",
        "import pandas as pd\n",
        "import pmdarima as pm\n",
        "import numpy as np\n",
        "import statsmodels.api as sm\n",
        "import matplotlib.pyplot as plt\n",
        "import seaborn as sns\n",
        "from datetime import datetime, timedelta\n",
        "from pmdarima import auto_arima\n",
        "from sklearn.metrics import mean_absolute_error, mean_squared_error"
      ]
    },
    {
      "cell_type": "markdown",
      "metadata": {
        "id": "1J8nDlS76whx"
      },
      "source": [
        "# Visualizing data\n",
        "We load the dataset from a CSV file, ensure the index is datetime, and handle any NaN or infinite values to clean the data.\n"
      ]
    },
    {
      "cell_type": "code",
      "execution_count": null,
      "metadata": {
        "colab": {
          "base_uri": "https://localhost:8080/",
          "height": 607
        },
        "id": "R992gfAU2Nc7",
        "outputId": "11502b33-efd2-466d-dbb9-7cc8ad857071"
      },
      "outputs": [],
      "source": [
        "#Preparing data\n",
        "df = pd.read_csv('labeled_sensor_data.csv')\n",
        "df['Timestamp'] = pd.to_datetime(df['Timestamp'])\n",
        "df.set_index('Timestamp', inplace=True)\n",
        "\n",
        "# Ensure the index is datetime\n",
        "df.index = pd.to_datetime(df.index)\n",
        "\n",
        "# Check for and handle any remaining NaNs or infinite values\n",
        "df = df.replace([np.inf, -np.inf], np.nan).dropna()\n",
        "\n",
        "# Plot the data\n",
        "plt.figure(figsize=(12, 6))\n",
        "plt.plot(df['CO2 (ppm)'], label='CO2 Levels')\n",
        "plt.xlabel('Time')\n",
        "plt.ylabel('CO2 (ppm)')\n",
        "plt.title('CO2 Levels Over Time')\n",
        "plt.legend()\n",
        "plt.grid(True)\n",
        "plt.tight_layout()\n",
        "plt.show()\n"
      ]
    },
    {
      "cell_type": "markdown",
      "metadata": {
        "id": "yDTsBVjm-rov"
      },
      "source": [
        "# Test for Stationarity\n",
        "\n",
        "Before building the forecasting model, it's essential to test if the data is stationary. Stationary data have constant mean, variance, and autocorrelation over time, which is a key assumption for many time series models. We use the Augmented Dickey-Fuller (ADF) test to check for stationarity.\n"
      ]
    },
    {
      "cell_type": "code",
      "execution_count": null,
      "metadata": {
        "colab": {
          "base_uri": "https://localhost:8080/"
        },
        "id": "xph85qT-dVkp",
        "outputId": "96853e0a-efc3-492a-c346-accf0d8e54a6"
      },
      "outputs": [],
      "source": [
        "#Testing if the time series data is stationary.\n",
        "result = adfuller(df['CO2 (ppm)'])\n",
        "print(f'ADF Statistic: {result[0]}')\n",
        "print(f'n_lags: {result[1]}')\n",
        "print(f'p-value: {result[1]}') #The p-value needs to be below 0.05.\n",
        "for key, value in result[4].items():\n",
        "    print('Critial Values:')\n",
        "    print(f'   {key}, {value}')"
      ]
    },
    {
      "cell_type": "markdown",
      "metadata": {
        "id": "JFpXnz5--e7Z"
      },
      "source": [
        "# Train the SARIMAX Model\n",
        "\n",
        "Using the `auto_arima` function, we find the best model parameters with exogenous variables and then fit the SARIMAX model on the training data.\n"
      ]
    },
    {
      "cell_type": "code",
      "execution_count": null,
      "metadata": {
        "colab": {
          "base_uri": "https://localhost:8080/"
        },
        "id": "Ovx5Hvw91wiL",
        "outputId": "738bd088-52fb-454b-9044-5c2524ec090f"
      },
      "outputs": [],
      "source": [
        "# Specify the day for which you want to make predictions\n",
        "specific_day = '2024-07-23'  # Replace with your desired date\n",
        "\n",
        "# Filter data for the specific day\n",
        "df_day = df[df.index.date == pd.to_datetime(specific_day).date()]\n",
        "\n",
        "# Define split point for training and test sets\n",
        "split_date = df.index[-int(0.01*len(df))]  # 95% for training, 5% for testing\n",
        "\n",
        "# Split the data into training and test sets\n",
        "train_data = df[df.index < split_date]\n",
        "test_data = df[df.index >= split_date]\n",
        "\n",
        "# Define the exogenous variables\n",
        "exogenous_variables = ['Temperature (�C)', 'Humidity (%)', 'DayOfWeek', 'CO2_lag1', 'Temp_lag1', 'Hum_lag1', 'Occupancy']\n",
        "\n",
        "# Ensure the exogenous variables are properly aligned\n",
        "train_exog = train_data[exogenous_variables]\n",
        "test_exog = test_data[exogenous_variables]\n",
        "\n",
        "# Use auto_arima to find the best model parameters with exogenous variables\n",
        "stepwise_model = auto_arima(train_data['CO2 (ppm)'],\n",
        "                            exogenous=train_exog,\n",
        "                            start_p=1, start_q=1,\n",
        "                            max_p=5, max_q=5,\n",
        "                            seasonal=True,\n",
        "                            d=0,\n",
        "                            trace=True,\n",
        "                            error_action='ignore',\n",
        "                            suppress_warnings=True,\n",
        "                            stepwise=True)\n",
        "\n",
        "# Print the best model parameters\n",
        "print(stepwise_model.summary())\n",
        "\n",
        "# Fit the best SARIMAX model on the training data with exogenous variables\n",
        "sarimax_results = sm.tsa.SARIMAX(train_data['CO2 (ppm)'],\n",
        "                                 exog=train_exog,\n",
        "                                 order=stepwise_model.order,\n",
        "                                 enforce_stationarity=False,\n",
        "                                 enforce_invertibility=False).fit()\n",
        "\n",
        "# Print the summary of the model\n",
        "print(sarimax_results.summary())\n",
        "\n",
        "# Forecast future values with exogenous variables for the specific day\n",
        "forecast_steps = 40  # Forecasting for the next 40 minutes\n",
        "forecast_index = pd.date_range(start=df_day.index[-1] + pd.Timedelta(minutes=1),\n",
        "                                periods=forecast_steps,\n",
        "                                freq='min')\n",
        "test_exog_day = df_day[exogenous_variables].iloc[-forecast_steps:]\n",
        "forecast = sarimax_results.get_forecast(steps=forecast_steps, exog=test_exog_day)\n",
        "\n",
        "# Extract forecasted values and associated confidence intervals\n",
        "forecast_mean = forecast.predicted_mean\n",
        "forecast_ci = forecast.conf_int()\n",
        "\n",
        "print(\"Forecast Index:\")\n",
        "print(forecast_index)\n",
        "\n",
        "print(\"\\nForecast Mean:\")\n",
        "print(forecast_mean)\n",
        "\n",
        "print(\"\\nForecast Confidence Intervals:\")\n",
        "print(forecast_ci)\n",
        "\n",
        "# Save the forecasted values to a CSV file\n",
        "forecast_df = pd.DataFrame({\n",
        "    'Timestamp': forecast_index,\n",
        "    'Forecast': forecast_mean\n",
        "})\n",
        "forecast_df.to_csv('forecast_predictions.csv', index=False)"
      ]
    },
    {
      "cell_type": "markdown",
      "metadata": {
        "id": "YT7m_CXq-knY"
      },
      "source": [
        "# Plotting with Hour Labels\n",
        "\n",
        "To enhance readability, the forecasted data, showing only the date of the forecast and the hours vertically.\n"
      ]
    },
    {
      "cell_type": "code",
      "execution_count": null,
      "metadata": {
        "colab": {
          "base_uri": "https://localhost:8080/",
          "height": 653
        },
        "id": "4gVbZHnJlQu7",
        "outputId": "a263b293-f1d5-429a-aad3-b5d8ff9d5869"
      },
      "outputs": [],
      "source": [
        "#Plotting the results\n",
        "plt.figure(figsize=(20, 10))\n",
        "plt.plot(df_day.index, df_day['CO2 (ppm)'], label='Observed Data', color='blue')\n",
        "plt.plot(forecast_index, forecast_mean, label='Forecast', color='red')\n",
        "plt.fill_between(forecast_index, forecast_ci.iloc[:, 0], forecast_ci.iloc[:, 1], color='pink', alpha=0.3)\n",
        "\n",
        "# Format x-axis to show hours\n",
        "plt.gca().xaxis.set_major_formatter(plt.matplotlib.dates.DateFormatter('%H:%M'))\n",
        "plt.gca().xaxis.set_major_locator(plt.matplotlib.dates.MinuteLocator(interval=5))\n",
        "plt.xticks(rotation=90)  # Rotate x-axis labels to be vertical\n",
        "\n",
        "\n",
        "plt.xlabel('Time')\n",
        "plt.ylabel('CO2 (ppm)')\n",
        "plt.title(f'CO2 Levels Forecast for the Next {forecast_steps} Minutes on {specific_day}')\n",
        "plt.legend()\n",
        "plt.grid(True)\n",
        "plt.tight_layout()\n",
        "plt.show()"
      ]
    },
    {
      "cell_type": "markdown",
      "metadata": {
        "id": "u_KrsSm-9g3s"
      },
      "source": [
        "# Comparison of Actual Data vs. Forecasted Data\n",
        "\n",
        "We load the forecast file and plot the actual CO2 data against the forecasted values for visual comparison.\n",
        "\n",
        "\n",
        "**(Run this only after uploading new data to compare)**"
      ]
    },
    {
      "cell_type": "code",
      "execution_count": null,
      "metadata": {
        "colab": {
          "base_uri": "https://localhost:8080/",
          "height": 632
        },
        "id": "PoitUY7-wwWp",
        "outputId": "92e240f4-b5d9-4a59-da55-6a3cc8202b1d"
      },
      "outputs": [],
      "source": [
        "# Load the combined forecast file for comparison\n",
        "combined_forecast_df = pd.read_csv('forecast_predictions.csv', parse_dates=['Timestamp'])\n",
        "combined_forecast_df.set_index('Timestamp', inplace=True)\n",
        "\n",
        "# Load your dataset with the new data\n",
        "df = pd.read_csv('labeled_sensor_data.csv', index_col='Timestamp', parse_dates=True)\n",
        "\n",
        "# Ensure the index is datetime\n",
        "df.index = pd.to_datetime(df.index)\n",
        "\n",
        "# Filter data for the specific day\n",
        "df_day = df[df.index.date == pd.to_datetime(specific_day).date()]\n",
        "\n",
        "# Plot the actual data vs forecasted data\n",
        "plt.figure(figsize=(12, 6))\n",
        "plt.plot(df_day.index, df_day['CO2 (ppm)'], label='Actual Data')\n",
        "plt.plot(combined_forecast_df.index, combined_forecast_df['Forecast'], label='Forecasted Data', linestyle='--')\n",
        "plt.xlabel('Hour of the Day')\n",
        "plt.ylabel('CO2 (ppm)')\n",
        "plt.title('CO2 (ppm) Forecast vs Actual')\n",
        "plt.legend()\n",
        "plt.grid(True)\n",
        "plt.tight_layout()\n",
        "\n",
        "# Format x-axis to show hours\n",
        "plt.gca().xaxis.set_major_formatter(plt.matplotlib.dates.DateFormatter('%H:%M'))\n",
        "plt.gca().xaxis.set_major_locator(plt.matplotlib.dates.MinuteLocator(interval=5))\n",
        "plt.xticks(rotation=90)\n",
        "\n",
        "plt.show()"
      ]
    }
  ],
  "metadata": {
    "colab": {
      "provenance": []
    },
    "kernelspec": {
      "display_name": "Python 3",
      "name": "python3"
    },
    "language_info": {
      "name": "python"
    }
  },
  "nbformat": 4,
  "nbformat_minor": 0
}
